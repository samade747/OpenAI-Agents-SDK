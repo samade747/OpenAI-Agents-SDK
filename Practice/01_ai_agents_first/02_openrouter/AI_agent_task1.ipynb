{
  "nbformat": 4,
  "nbformat_minor": 0,
  "metadata": {
    "colab": {
      "provenance": []
    },
    "kernelspec": {
      "name": "python3",
      "display_name": "Python 3"
    },
    "language_info": {
      "name": "python"
    }
  },
  "cells": [
    {
      "cell_type": "code",
      "execution_count": null,
      "metadata": {
        "colab": {
          "base_uri": "https://localhost:8080/"
        },
        "id": "5kyUQKT3BamG",
        "outputId": "7a393faf-159f-4f91-fa65-25d4a46f7d3c"
      },
      "outputs": [
        {
          "output_type": "stream",
          "name": "stdout",
          "text": [
            "\u001b[?25l   \u001b[90m━━━━━━━━━━━━━━━━━━━━━━━━━━━━━━━━━━━━━━━━\u001b[0m \u001b[32m0.0/108.3 kB\u001b[0m \u001b[31m?\u001b[0m eta \u001b[36m-:--:--\u001b[0m\r\u001b[2K   \u001b[90m━━━━━━━━━━━━━━━━━━━━━━━━━━━━━━━━━━━━━━━━\u001b[0m \u001b[32m108.3/108.3 kB\u001b[0m \u001b[31m3.6 MB/s\u001b[0m eta \u001b[36m0:00:00\u001b[0m\n",
            "\u001b[?25h\u001b[?25l   \u001b[90m━━━━━━━━━━━━━━━━━━━━━━━━━━━━━━━━━━━━━━━━\u001b[0m \u001b[32m0.0/129.2 kB\u001b[0m \u001b[31m?\u001b[0m eta \u001b[36m-:--:--\u001b[0m\r\u001b[2K   \u001b[90m━━━━━━━━━━━━━━━━━━━━━━━━━━━━━━━━━━━━━━━━\u001b[0m \u001b[32m129.2/129.2 kB\u001b[0m \u001b[31m9.1 MB/s\u001b[0m eta \u001b[36m0:00:00\u001b[0m\n",
            "\u001b[2K   \u001b[90m━━━━━━━━━━━━━━━━━━━━━━━━━━━━━━━━━━━━━━━━\u001b[0m \u001b[32m76.1/76.1 kB\u001b[0m \u001b[31m5.1 MB/s\u001b[0m eta \u001b[36m0:00:00\u001b[0m\n",
            "\u001b[2K   \u001b[90m━━━━━━━━━━━━━━━━━━━━━━━━━━━━━━━━━━━━━━━━\u001b[0m \u001b[32m44.4/44.4 kB\u001b[0m \u001b[31m2.4 MB/s\u001b[0m eta \u001b[36m0:00:00\u001b[0m\n",
            "\u001b[2K   \u001b[90m━━━━━━━━━━━━━━━━━━━━━━━━━━━━━━━━━━━━━━━━\u001b[0m \u001b[32m72.0/72.0 kB\u001b[0m \u001b[31m4.9 MB/s\u001b[0m eta \u001b[36m0:00:00\u001b[0m\n",
            "\u001b[2K   \u001b[90m━━━━━━━━━━━━━━━━━━━━━━━━━━━━━━━━━━━━━━━━\u001b[0m \u001b[32m62.5/62.5 kB\u001b[0m \u001b[31m3.9 MB/s\u001b[0m eta \u001b[36m0:00:00\u001b[0m\n",
            "\u001b[?25h"
          ]
        }
      ],
      "source": [
        "!pip install -Uq openai-agents"
      ]
    },
    {
      "cell_type": "code",
      "source": [
        "\n",
        "import nest_asyncio\n",
        "nest_asyncio.apply()"
      ],
      "metadata": {
        "id": "88PmN97aB4pD"
      },
      "execution_count": null,
      "outputs": []
    },
    {
      "cell_type": "code",
      "source": [
        "\n",
        "from google.colab import userdata\n",
        "\n",
        "OPENROUTER_API_KEY = userdata.get(\"OPENROUTER_API_KEY\")"
      ],
      "metadata": {
        "id": "R_tOTtc8B8SE"
      },
      "execution_count": null,
      "outputs": []
    },
    {
      "cell_type": "code",
      "source": [
        "#Reference: https://openrouter.ai/docs/quickstart\n",
        "\n",
        "BASE_URL = \"https://openrouter.ai/api/v1\"\n",
        "MODEL = \"deepseek/deepseek-chat-v3-0324:free\"\n",
        "\n",
        "# Some other free models on 26th March:\n",
        "# https://openrouter.ai/deepseek/deepseek-chat-v3-0324:free\n",
        "# https://openrouter.ai/google/gemini-2.5-pro-exp-03-25:free"
      ],
      "metadata": {
        "id": "zcRw1aoZB-2_"
      },
      "execution_count": null,
      "outputs": []
    },
    {
      "cell_type": "code",
      "source": [
        "import requests\n",
        "import json\n",
        "\n",
        "response = requests.post(\n",
        "  url=f\"{BASE_URL}/chat/completions\",\n",
        "  headers={\n",
        "    \"Authorization\": f\"Bearer {OPENROUTER_API_KEY}\",\n",
        "  },\n",
        "  data=json.dumps({\n",
        "    \"model\": MODEL,\n",
        "    \"messages\": [\n",
        "      {\n",
        "        \"role\": \"user\",\n",
        "        \"content\": \"findout samade747 github and give the valuation\"\n",
        "      }\n",
        "    ]\n",
        "  })\n",
        ")\n",
        "\n",
        "print(response.json())"
      ],
      "metadata": {
        "colab": {
          "base_uri": "https://localhost:8080/"
        },
        "id": "7mL3wLMFCEBP",
        "outputId": "8515b4cc-bc2e-4bde-ea37-7e11ccd1faec"
      },
      "execution_count": null,
      "outputs": [
        {
          "output_type": "stream",
          "name": "stdout",
          "text": [
            "{'id': 'gen-1745185808-ZHp1vSbYuA1kuavkvJI3', 'provider': 'Targon', 'model': 'deepseek/deepseek-chat-v3-0324', 'object': 'chat.completion', 'created': 1745185808, 'choices': [{'logprobs': None, 'finish_reason': 'stop', 'native_finish_reason': 'stop', 'index': 0, 'message': {'role': 'assistant', 'content': 'Samade747 appears to be a GitHub username, but as of my latest knowledge update, I don\\'t have specific details about this user\\'s repositories, activity, or contributions on GitHub beyond what is publicly available.\\n\\n### How to Find Samade747 on GitHub:\\n1. **Visit GitHub**: Go to [GitHub.com](https://github.com/) and search for \"samade747\" in the top search bar.\\n2. **Check Profile**: Review their repositories, stars, followers, and contributions (if public).\\n\\n### Valuation Factors for GitHub Accounts:\\nIf you\\'re asking about the \"valuation\" of a GitHub account (e.g., for recruitment, acquisition, or freelance work), here are key metrics:\\n1. **Repositories**: Quality, originality, and activity in their projects.\\n2. **Stars/Forks**: Engagement from the developer community.\\n3. **Contributions**: Commit history (open-source contributions).\\n4. **Followers/Network**: Influence in the developer ecosystem.\\n5. **Skills/Tech Stack**: Languages/frameworks used (e.g., Python, JavaScript, AI/ML tools).\\n\\n### Example Valuation Scenarios:\\n- **Freelance Dev**: Based on their projects, rates could range from $20-$200/hr.\\n- **Open-Source Influence**: High-traffic repos could attract sponsorships/job offers.\\n- **Acquisition**: Rare; usually tied to a project\\'s value (e.g., a startup built on their code).\\n\\n### Next Steps:\\n- Share specifics about what you’re looking for (e.g., hiring, collaboration).\\n- If you link their GitHub profile or repos, I can analyze them further.\\n\\nLet me know how you\\'d like to proceed!', 'refusal': None, 'reasoning': None}}], 'usage': {'prompt_tokens': 13, 'completion_tokens': 346, 'total_tokens': 359}}\n"
          ]
        }
      ]
    },
    {
      "cell_type": "code",
      "source": [
        "data = response.json()\n",
        "data['choices'][0]['message']['content']\n"
      ],
      "metadata": {
        "colab": {
          "base_uri": "https://localhost:8080/",
          "height": 278
        },
        "id": "f1DPi9CJKlBJ",
        "outputId": "10d23e98-1ef9-4dce-95c1-69641a273c94"
      },
      "execution_count": null,
      "outputs": [
        {
          "output_type": "execute_result",
          "data": {
            "text/plain": [
              "'Samade747 appears to be a GitHub username, but as of my latest knowledge update, I don\\'t have specific details about this user\\'s repositories, activity, or contributions on GitHub beyond what is publicly available.\\n\\n### How to Find Samade747 on GitHub:\\n1. **Visit GitHub**: Go to [GitHub.com](https://github.com/) and search for \"samade747\" in the top search bar.\\n2. **Check Profile**: Review their repositories, stars, followers, and contributions (if public).\\n\\n### Valuation Factors for GitHub Accounts:\\nIf you\\'re asking about the \"valuation\" of a GitHub account (e.g., for recruitment, acquisition, or freelance work), here are key metrics:\\n1. **Repositories**: Quality, originality, and activity in their projects.\\n2. **Stars/Forks**: Engagement from the developer community.\\n3. **Contributions**: Commit history (open-source contributions).\\n4. **Followers/Network**: Influence in the developer ecosystem.\\n5. **Skills/Tech Stack**: Languages/frameworks used (e.g., Python, JavaScript, AI/ML tools).\\n\\n### Example Valuation Scenarios:\\n- **Freelance Dev**: Based on their projects, rates could range from $20-$200/hr.\\n- **Open-Source Influence**: High-traffic repos could attract sponsorships/job offers.\\n- **Acquisition**: Rare; usually tied to a project\\'s value (e.g., a startup built on their code).\\n\\n### Next Steps:\\n- Share specifics about what you’re looking for (e.g., hiring, collaboration).\\n- If you link their GitHub profile or repos, I can analyze them further.\\n\\nLet me know how you\\'d like to proceed!'"
            ],
            "application/vnd.google.colaboratory.intrinsic+json": {
              "type": "string"
            }
          },
          "metadata": {},
          "execution_count": 14
        }
      ]
    }
  ]
}